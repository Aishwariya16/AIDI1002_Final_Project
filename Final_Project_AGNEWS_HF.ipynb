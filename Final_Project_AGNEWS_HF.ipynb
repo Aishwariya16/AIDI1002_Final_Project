{
 "cells": [
  {
   "cell_type": "markdown",
   "id": "e1acbf97",
   "metadata": {},
   "source": [
    "\n",
    "# AIDI 1002 Final Project — Lightweight TextCNN (HuggingFace `datasets`)\n",
    "\n",
    "**Paper:** *Light-Weighted CNN for Text Classification* (Yadav, 2020)  \n",
    "**Date:** 2025-08-13\n",
    "\n",
    "This notebook is a clean, end-to-end implementation that:\n",
    "- Loads **AG_NEWS** via **HuggingFace `datasets`** (no `torchtext` required)\n",
    "- Implements a **Lightweight TextCNN** with **depthwise separable 1D convolutions**\n",
    "- Trains with a **dual-optimizer schedule** (Adam → SGD on validation plateau)\n",
    "- Adds a **baseline MLP** for comparison\n",
    "- Saves artifacts and optionally plots learning curves\n",
    "\n"
   ]
  },
  {
   "cell_type": "markdown",
   "id": "61020290",
   "metadata": {},
   "source": [
    "## 1) Setup & Device"
   ]
  },
  {
   "cell_type": "code",
   "execution_count": 2,
   "id": "52bd453c",
   "metadata": {},
   "outputs": [
    {
     "name": "stdout",
     "output_type": "stream",
     "text": [
      "Python: 3.12.7 | packaged by Anaconda, Inc. | (main, Oct  4 2024, 13:17:27) [MSC v.1929 64 bit (AMD64)]\n",
      "Platform: Windows-11-10.0.26100-SP0\n",
      "PyTorch: 2.7.1+cpu\n",
      "Device: cpu\n"
     ]
    },
    {
     "data": {
      "text/plain": [
       "'1'"
      ]
     },
     "execution_count": 2,
     "metadata": {},
     "output_type": "execute_result"
    }
   ],
   "source": [
    "\n",
    "import os, re, math, random, json, platform, sys\n",
    "from collections import Counter\n",
    "\n",
    "import numpy as np\n",
    "import torch\n",
    "import torch.nn as nn\n",
    "import torch.nn.functional as F\n",
    "\n",
    "from datasets import load_dataset\n",
    "from sklearn.model_selection import train_test_split\n",
    "from sklearn.metrics import accuracy_score, f1_score, classification_report, confusion_matrix\n",
    "\n",
    "print(\"Python:\", sys.version)\n",
    "print(\"Platform:\", platform.platform())\n",
    "print(\"PyTorch:\", torch.__version__)\n",
    "DEVICE = \"cuda\" if torch.cuda.is_available() else \"cpu\"\n",
    "print(\"Device:\", DEVICE)\n",
    "\n",
    "# Optional: silence HF symlink warning on Windows (harmless otherwise)\n",
    "os.environ.setdefault(\"HF_HUB_DISABLE_SYMLINKS_WARNING\", \"1\")\n"
   ]
  },
  {
   "cell_type": "markdown",
   "id": "630912e8",
   "metadata": {},
   "source": [
    "## 2) Reproducibility"
   ]
  },
  {
   "cell_type": "code",
   "execution_count": 3,
   "id": "37e99d08",
   "metadata": {},
   "outputs": [],
   "source": [
    "\n",
    "SEED = 42\n",
    "def set_seed(seed=SEED):\n",
    "    random.seed(seed)\n",
    "    np.random.seed(seed)\n",
    "    os.environ[\"PYTHONHASHSEED\"] = str(seed)\n",
    "    torch.manual_seed(seed)\n",
    "    torch.cuda.manual_seed_all(seed)\n",
    "    torch.backends.cudnn.deterministic = True\n",
    "    torch.backends.cudnn.benchmark = False\n",
    "\n",
    "set_seed(SEED)\n"
   ]
  },
  {
   "cell_type": "markdown",
   "id": "b4792354",
   "metadata": {},
   "source": [
    "## 3) Dataset — AG_NEWS via HuggingFace `datasets`"
   ]
  },
  {
   "cell_type": "code",
   "execution_count": 4,
   "id": "e6930b38",
   "metadata": {},
   "outputs": [
    {
     "name": "stdout",
     "output_type": "stream",
     "text": [
      "Vocab size: 46177\n",
      "Shapes: torch.Size([108000, 256]) torch.Size([12000, 256]) torch.Size([7600, 256])\n",
      "Label counts (train): [27000, 27000, 27000, 27000]\n"
     ]
    }
   ],
   "source": [
    "\n",
    "# 3.1 Load\n",
    "ds = load_dataset(\"ag_news\")\n",
    "train_texts = ds[\"train\"][\"text\"]\n",
    "train_labels = ds[\"train\"][\"label\"]\n",
    "test_texts  = ds[\"test\"][\"text\"]\n",
    "test_labels = ds[\"test\"][\"label\"]\n",
    "\n",
    "# 3.2 Tokenizer (basic_english-like)\n",
    "_word_re = re.compile(r\"[A-Za-z0-9']+\")\n",
    "def tokenize(text: str):\n",
    "    return _word_re.findall(text.lower())\n",
    "\n",
    "# 3.3 Build vocab from train only\n",
    "PAD, UNK = \"<pad>\", \"<unk>\"\n",
    "min_freq = 2\n",
    "counter = Counter()\n",
    "for t in train_texts:\n",
    "    counter.update(tokenize(t))\n",
    "\n",
    "itos = [PAD, UNK] + [tok for tok, freq in counter.items() if freq >= min_freq]\n",
    "stoi = {tok: i for i, tok in enumerate(itos)}\n",
    "PAD_ID, UNK_ID = stoi[PAD], stoi[UNK]\n",
    "\n",
    "class SimpleVocab:\n",
    "    def __init__(self, stoi, itos, unk_id=1):\n",
    "        self.stoi = stoi\n",
    "        self.itos = itos\n",
    "        self.unk_id = unk_id\n",
    "    def __len__(self): return len(self.itos)\n",
    "    def __getitem__(self, tok): return self.stoi.get(tok, self.unk_id)\n",
    "\n",
    "vocab = SimpleVocab(stoi, itos, unk_id=UNK_ID)\n",
    "\n",
    "# 3.4 Numericalize\n",
    "MAX_LEN = 256\n",
    "def encode_text(text: str):\n",
    "    ids = [vocab[tok] for tok in tokenize(text)]\n",
    "    ids = ids[:MAX_LEN]\n",
    "    if len(ids) < MAX_LEN:\n",
    "        ids += [PAD_ID] * (MAX_LEN - len(ids))\n",
    "    return ids\n",
    "\n",
    "def to_tensors(texts, labels):\n",
    "    X = [encode_text(t) for t in texts]\n",
    "    y = list(labels)\n",
    "    X = torch.tensor(X, dtype=torch.long)\n",
    "    y = torch.tensor(y, dtype=torch.long)  # already 0..3\n",
    "    return X, y\n",
    "\n",
    "X_train_full, y_train_full = to_tensors(train_texts, train_labels)\n",
    "X_test, y_test = to_tensors(test_texts, test_labels)\n",
    "\n",
    "# 3.5 Train/Val split\n",
    "X_train, X_val, y_train, y_val = train_test_split(\n",
    "    X_train_full, y_train_full, test_size=0.1, random_state=SEED, stratify=y_train_full\n",
    ")\n",
    "\n",
    "print(\"Vocab size:\", len(vocab))\n",
    "print(\"Shapes:\", X_train.shape, X_val.shape, X_test.shape)\n",
    "print(\"Label counts (train):\", torch.bincount(y_train).tolist())\n"
   ]
  },
  {
   "cell_type": "markdown",
   "id": "0e319cb1",
   "metadata": {},
   "source": [
    "## 4) Dataloaders"
   ]
  },
  {
   "cell_type": "code",
   "execution_count": 5,
   "id": "8420935d",
   "metadata": {},
   "outputs": [
    {
     "name": "stdout",
     "output_type": "stream",
     "text": [
      "Info: Running on CPU. pin_memory disabled (no impact on correctness).\n"
     ]
    }
   ],
   "source": [
    "\n",
    "from torch.utils.data import TensorDataset, DataLoader\n",
    "\n",
    "BATCH_SIZE = 128\n",
    "use_pin = (DEVICE == \"cuda\")\n",
    "\n",
    "train_dl = DataLoader(TensorDataset(X_train, y_train), batch_size=BATCH_SIZE, shuffle=True,  pin_memory=use_pin)\n",
    "val_dl   = DataLoader(TensorDataset(X_val,   y_val),   batch_size=BATCH_SIZE, shuffle=False, pin_memory=use_pin)\n",
    "test_dl  = DataLoader(TensorDataset(X_test,  y_test),  batch_size=BATCH_SIZE, shuffle=False, pin_memory=use_pin)\n",
    "\n",
    "if not use_pin:\n",
    "    print(\"Info: Running on CPU. pin_memory disabled (no impact on correctness).\")\n"
   ]
  },
  {
   "cell_type": "markdown",
   "id": "1596514b",
   "metadata": {},
   "source": [
    "## 5) Models — Lightweight TextCNN + MLP baseline"
   ]
  },
  {
   "cell_type": "code",
   "execution_count": 6,
   "id": "09d62d1a",
   "metadata": {},
   "outputs": [
    {
     "name": "stdout",
     "output_type": "stream",
     "text": [
      "TextCNN params: 5938116\n",
      "MLP params: 14301060\n"
     ]
    }
   ],
   "source": [
    "\n",
    "class DepthwiseSeparableConv1d(nn.Module):\n",
    "    def __init__(self, in_channels, out_channels, kernel_size, padding):\n",
    "        super().__init__()\n",
    "        self.depthwise = nn.Conv1d(in_channels, in_channels, kernel_size=kernel_size,\n",
    "                                   groups=in_channels, padding=padding, bias=False)\n",
    "        self.pointwise = nn.Conv1d(in_channels, out_channels, kernel_size=1, bias=True)\n",
    "        self.bn = nn.BatchNorm1d(out_channels)\n",
    "    def forward(self, x):\n",
    "        x = self.depthwise(x)\n",
    "        x = self.pointwise(x)\n",
    "        x = self.bn(x)\n",
    "        return F.relu(x)\n",
    "\n",
    "class LightweightTextCNN(nn.Module):\n",
    "    def __init__(self, vocab_size, embed_dim=128, num_classes=4, kernel_sizes=(3,4,5), channels=64, dropout=0.5):\n",
    "        super().__init__()\n",
    "        self.embedding = nn.Embedding(vocab_size, embed_dim, padding_idx=PAD_ID)\n",
    "        self.convs = nn.ModuleList([\n",
    "            DepthwiseSeparableConv1d(embed_dim, channels, k, padding=k//2)\n",
    "            for k in kernel_sizes\n",
    "        ])\n",
    "        self.dropout = nn.Dropout(dropout)\n",
    "        self.fc = nn.Linear(len(kernel_sizes) * channels, num_classes)\n",
    "        for m in self.modules():\n",
    "            if isinstance(m, (nn.Conv1d, nn.Linear)):\n",
    "                nn.init.kaiming_uniform_(m.weight, a=math.sqrt(5))\n",
    "                if getattr(m, \"bias\", None) is not None:\n",
    "                    nn.init.zeros_(m.bias)\n",
    "    def forward(self, x):\n",
    "        x = self.embedding(x)\n",
    "        x = x.transpose(1, 2)\n",
    "        feats = []\n",
    "        for conv in self.convs:\n",
    "            c = conv(x)\n",
    "            p = F.adaptive_max_pool1d(c, 1).squeeze(-1)\n",
    "            feats.append(p)\n",
    "        h = torch.cat(feats, dim=1)\n",
    "        h = self.dropout(h)\n",
    "        return self.fc(h)\n",
    "\n",
    "class MLPText(nn.Module):\n",
    "    def __init__(self, vocab_size, embed_dim=128, hidden=256, num_classes=4, dropout=0.5):\n",
    "        super().__init__()\n",
    "        self.embedding = nn.Embedding(vocab_size, embed_dim, padding_idx=PAD_ID)\n",
    "        self.fc1 = nn.Linear(embed_dim * MAX_LEN, hidden)\n",
    "        self.bn1 = nn.BatchNorm1d(hidden)\n",
    "        self.drop = nn.Dropout(dropout)\n",
    "        self.fc2 = nn.Linear(hidden, num_classes)\n",
    "    def forward(self, x):\n",
    "        x = self.embedding(x)\n",
    "        x = x.reshape(x.size(0), -1)\n",
    "        x = self.drop(F.relu(self.bn1(self.fc1(x))))\n",
    "        return self.fc2(x)\n",
    "\n",
    "def count_parameters(model):\n",
    "    return sum(p.numel() for p in model.parameters() if p.requires_grad)\n",
    "\n",
    "textcnn = LightweightTextCNN(vocab_size=len(vocab)).to(DEVICE)\n",
    "mlp     = MLPText(vocab_size=len(vocab)).to(DEVICE)\n",
    "print(\"TextCNN params:\", count_parameters(textcnn))\n",
    "print(\"MLP params:\", count_parameters(mlp))\n"
   ]
  },
  {
   "cell_type": "markdown",
   "id": "02bb48b8",
   "metadata": {},
   "source": [
    "## 6) Training & Evaluation (Adam → SGD on validation plateau)"
   ]
  },
  {
   "cell_type": "code",
   "execution_count": 7,
   "id": "b4db5f39",
   "metadata": {},
   "outputs": [],
   "source": [
    "\n",
    "def run_epoch(model, loader, criterion, optimizer=None):\n",
    "    is_train = optimizer is not None\n",
    "    model.train(is_train)\n",
    "    losses, ys, yhats = [], [], []\n",
    "    for xb, yb in loader:\n",
    "        xb, yb = xb.to(DEVICE), yb.to(DEVICE)\n",
    "        if is_train:\n",
    "            optimizer.zero_grad(set_to_none=True)\n",
    "        logits = model(xb)\n",
    "        loss = criterion(logits, yb)\n",
    "        if is_train:\n",
    "            loss.backward()\n",
    "            optimizer.step()\n",
    "        losses.append(loss.item())\n",
    "        ys.extend(yb.detach().cpu().numpy().tolist())\n",
    "        yhats.extend(logits.argmax(1).detach().cpu().numpy().tolist())\n",
    "    return {\n",
    "        \"loss\": float(np.mean(losses)),\n",
    "        \"acc\": accuracy_score(ys, yhats),\n",
    "        \"f1m\": f1_score(ys, yhats, average=\"macro\")\n",
    "    }\n",
    "\n",
    "def train_with_dual_optimizer(model, train_dl, val_dl, epochs=8, lr_adam=1e-3, lr_sgd=5e-3,\n",
    "                              plateau_patience=2, min_delta=1e-4, momentum=0.9):\n",
    "    criterion = nn.CrossEntropyLoss()\n",
    "    opt = torch.optim.Adam(model.parameters(), lr=lr_adam)\n",
    "    using_sgd, best_val, no_improve = False, float(\"inf\"), 0\n",
    "    history = []\n",
    "    for ep in range(1, epochs+1):\n",
    "        tr = run_epoch(model, train_dl, criterion, optimizer=opt)\n",
    "        va = run_epoch(model, val_dl,   criterion, optimizer=None)\n",
    "        improved = best_val - va[\"loss\"] > min_delta\n",
    "        if improved:\n",
    "            best_val, no_improve = va[\"loss\"], 0\n",
    "        else:\n",
    "            no_improve += 1\n",
    "        if (no_improve >= plateau_patience) and (not using_sgd):\n",
    "            opt = torch.optim.SGD(model.parameters(), lr=lr_sgd, momentum=momentum)\n",
    "            using_sgd = True\n",
    "        history.append({\"epoch\": ep, \"train\": tr, \"val\": va, \"optimizer\": \"SGD\" if using_sgd else \"Adam\"})\n",
    "        print(f\"Epoch {ep:02d} | opt={'SGD' if using_sgd else 'Adam'} | \"\n",
    "              f\"train loss {tr['loss']:.4f} acc {tr['acc']:.3f} | \"\n",
    "              f\"val loss {va['loss']:.4f} acc {va['acc']:.3f}\")\n",
    "    return model, history\n"
   ]
  },
  {
   "cell_type": "code",
   "execution_count": 8,
   "id": "5bbfe114-195d-451d-a8c1-b0aec9429b38",
   "metadata": {},
   "outputs": [
    {
     "name": "stdout",
     "output_type": "stream",
     "text": [
      "FAST TextCNN params: 2962916\n",
      "FAST MLP params: 5053380\n",
      "Epoch 01 | opt=Adam | train loss 3.5654 acc 0.251 | val loss 1.4061 acc 0.282\n",
      "Epoch 02 | opt=Adam | train loss 2.6415 acc 0.281 | val loss 1.3581 acc 0.334\n",
      "\n",
      "FAST TextCNN — Test metrics: {'loss': 1.3672405183315277, 'acc': 0.326, 'f1m': 0.3180103781344693}\n",
      "Epoch 01 | opt=Adam | train loss 1.3495 acc 0.369 | val loss 1.2151 acc 0.457\n",
      "Epoch 02 | opt=Adam | train loss 0.8643 acc 0.709 | val loss 1.1628 acc 0.503\n",
      "\n",
      "FAST MLP — Test metrics: {'loss': 1.160011425614357, 'acc': 0.497, 'f1m': 0.49460875442982355}\n"
     ]
    }
   ],
   "source": [
    "# ==== FAST MODE (smoke test) ====\n",
    "# 1) Subsample the dataset (keep class balance)\n",
    "def balanced_subset(X, y, per_class=2000, seed=42):\n",
    "    import torch, numpy as np, random\n",
    "    g = torch.Generator().manual_seed(seed)\n",
    "    idxs = []\n",
    "    y_np = y.numpy()\n",
    "    for c in range(4):\n",
    "        cls_idx = np.where(y_np == c)[0]\n",
    "        take = min(per_class, len(cls_idx))\n",
    "        sel = np.random.default_rng(seed+c).choice(cls_idx, size=take, replace=False)\n",
    "        idxs.extend(sel.tolist())\n",
    "    random.Random(seed).shuffle(idxs)\n",
    "    return X[idxs], y[idxs]\n",
    "\n",
    "X_train_fast, y_train_fast = balanced_subset(X_train, y_train, per_class=2000)  # ~8k rows\n",
    "X_val_fast,   y_val_fast   = balanced_subset(X_val,   y_val,   per_class=500)   # ~2k rows\n",
    "X_test_fast,  y_test_fast  = X_test[:2000], y_test[:2000]                        # quick test slice\n",
    "\n",
    "from torch.utils.data import TensorDataset, DataLoader\n",
    "BATCH_SIZE_FAST = 256\n",
    "use_pin = (DEVICE == \"cuda\")\n",
    "train_dl_fast = DataLoader(TensorDataset(X_train_fast, y_train_fast), batch_size=BATCH_SIZE_FAST, shuffle=True,  pin_memory=use_pin, num_workers=2)\n",
    "val_dl_fast   = DataLoader(TensorDataset(X_val_fast,   y_val_fast),   batch_size=BATCH_SIZE_FAST, shuffle=False, pin_memory=use_pin, num_workers=2)\n",
    "test_dl_fast  = DataLoader(TensorDataset(X_test_fast,  y_test_fast),  batch_size=BATCH_SIZE_FAST, shuffle=False, pin_memory=use_pin, num_workers=2)\n",
    "\n",
    "# 2) Smaller models (fewer channels/embedding) + fewer epochs\n",
    "textcnn_fast = LightweightTextCNN(vocab_size=len(vocab), embed_dim=64, kernel_sizes=(3,4,5), channels=32, dropout=0.5).to(DEVICE)\n",
    "mlp_fast     = MLPText(vocab_size=len(vocab), embed_dim=64, hidden=128, dropout=0.5).to(DEVICE)\n",
    "\n",
    "print(\"FAST TextCNN params:\", sum(p.numel() for p in textcnn_fast.parameters() if p.requires_grad))\n",
    "print(\"FAST MLP params:\",     sum(p.numel() for p in mlp_fast.parameters()     if p.requires_grad))\n",
    "\n",
    "# 3) Train + evaluate (2 epochs)\n",
    "textcnn_fast, hist_c_fast = train_with_dual_optimizer(textcnn_fast, train_dl_fast, val_dl_fast, epochs=2, lr_adam=1e-3, lr_sgd=5e-3)\n",
    "from sklearn.metrics import classification_report\n",
    "crit = nn.CrossEntropyLoss()\n",
    "tc_test = run_epoch(textcnn_fast, test_dl_fast, crit, optimizer=None)\n",
    "print(\"\\nFAST TextCNN — Test metrics:\", tc_test)\n",
    "\n",
    "mlp_fast, hist_m_fast = train_with_dual_optimizer(mlp_fast, train_dl_fast, val_dl_fast, epochs=2, lr_adam=1e-3, lr_sgd=5e-3)\n",
    "mlp_test = run_epoch(mlp_fast, test_dl_fast, crit, optimizer=None)\n",
    "print(\"\\nFAST MLP — Test metrics:\", mlp_test)\n"
   ]
  },
  {
   "cell_type": "markdown",
   "id": "744b2c71",
   "metadata": {},
   "source": [
    "## 7) Train TextCNN, Evaluate, then MLP baseline, Evaluate"
   ]
  },
  {
   "cell_type": "code",
   "execution_count": 9,
   "id": "335907c1-e30b-4dd0-97ae-587611205a1c",
   "metadata": {},
   "outputs": [
    {
     "name": "stdout",
     "output_type": "stream",
     "text": [
      "kernel alive\n"
     ]
    }
   ],
   "source": [
    "print(\"kernel alive\")\n"
   ]
  },
  {
   "cell_type": "code",
   "execution_count": 10,
   "id": "0c1ee48a",
   "metadata": {},
   "outputs": [
    {
     "name": "stdout",
     "output_type": "stream",
     "text": [
      "Epoch 01 | opt=Adam | train loss 1.3091 acc 0.496 | val loss 0.5571 acc 0.815\n",
      "Epoch 02 | opt=Adam | train loss 0.5524 acc 0.797 | val loss 0.3620 acc 0.882\n",
      "Epoch 03 | opt=Adam | train loss 0.3792 acc 0.872 | val loss 0.3116 acc 0.896\n",
      "Epoch 04 | opt=Adam | train loss 0.3054 acc 0.900 | val loss 0.2874 acc 0.904\n",
      "Epoch 05 | opt=Adam | train loss 0.2566 acc 0.915 | val loss 0.2770 acc 0.908\n",
      "Epoch 06 | opt=Adam | train loss 0.2208 acc 0.928 | val loss 0.2763 acc 0.909\n",
      "Epoch 07 | opt=Adam | train loss 0.1917 acc 0.938 | val loss 0.2812 acc 0.909\n",
      "Epoch 08 | opt=SGD | train loss 0.1658 acc 0.945 | val loss 0.2875 acc 0.908\n",
      "\n",
      "TextCNN — Test metrics: {'loss': 0.30587584103147186, 'acc': 0.9068421052631579, 'f1m': 0.9067570188808819}\n",
      "\n",
      "TextCNN — Classification Report:\n",
      "\n",
      "              precision    recall  f1-score   support\n",
      "\n",
      "           0     0.9001    0.9105    0.9053      1900\n",
      "           1     0.9565    0.9616    0.9591      1900\n",
      "           2     0.8796    0.8726    0.8761      1900\n",
      "           3     0.8906    0.8826    0.8866      1900\n",
      "\n",
      "    accuracy                         0.9068      7600\n",
      "   macro avg     0.9067    0.9068    0.9068      7600\n",
      "weighted avg     0.9067    0.9068    0.9068      7600\n",
      "\n",
      "Epoch 01 | opt=Adam | train loss 0.7168 acc 0.716 | val loss 0.4183 acc 0.851\n",
      "Epoch 02 | opt=Adam | train loss 0.3057 acc 0.893 | val loss 0.3485 acc 0.881\n",
      "Epoch 03 | opt=Adam | train loss 0.1908 acc 0.935 | val loss 0.3509 acc 0.885\n",
      "Epoch 04 | opt=SGD | train loss 0.1232 acc 0.958 | val loss 0.3848 acc 0.887\n",
      "Epoch 05 | opt=SGD | train loss 0.0659 acc 0.979 | val loss 0.4253 acc 0.889\n",
      "Epoch 06 | opt=SGD | train loss 0.0594 acc 0.981 | val loss 0.4443 acc 0.889\n",
      "Epoch 07 | opt=SGD | train loss 0.0553 acc 0.982 | val loss 0.4615 acc 0.890\n",
      "Epoch 08 | opt=SGD | train loss 0.0508 acc 0.983 | val loss 0.4800 acc 0.888\n",
      "\n",
      "MLP — Test metrics: {'loss': 0.48491275931398076, 'acc': 0.8780263157894737, 'f1m': 0.8778008938537281}\n",
      "\n",
      "MLP — Classification Report:\n",
      "\n",
      "              precision    recall  f1-score   support\n",
      "\n",
      "           0     0.8814    0.8879    0.8846      1900\n",
      "           1     0.9352    0.9489    0.9420      1900\n",
      "           2     0.8456    0.8332    0.8393      1900\n",
      "           3     0.8484    0.8421    0.8452      1900\n",
      "\n",
      "    accuracy                         0.8780      7600\n",
      "   macro avg     0.8776    0.8780    0.8778      7600\n",
      "weighted avg     0.8776    0.8780    0.8778      7600\n",
      "\n",
      "\n",
      "Results summary:\n",
      " {\n",
      "  \"TextCNN_test\": {\n",
      "    \"loss\": 0.30587584103147186,\n",
      "    \"acc\": 0.9068421052631579,\n",
      "    \"f1m\": 0.9067570188808819\n",
      "  },\n",
      "  \"MLP_test\": {\n",
      "    \"loss\": 0.48491275931398076,\n",
      "    \"acc\": 0.8780263157894737,\n",
      "    \"f1m\": 0.8778008938537281\n",
      "  },\n",
      "  \"TextCNN_params\": 5938116,\n",
      "  \"MLP_params\": 14301060\n",
      "}\n",
      "\n",
      "TextCNN acc=0.907 f1-macro=0.907 (5938116 params) | MLP acc=0.878 f1-macro=0.878 (14301060 params))\n"
     ]
    }
   ],
   "source": [
    "\n",
    "# Train TextCNN\n",
    "textcnn, history_c = train_with_dual_optimizer(textcnn, train_dl, val_dl, epochs=8)\n",
    "\n",
    "# Evaluate TextCNN\n",
    "crit = nn.CrossEntropyLoss()\n",
    "test_metrics_c = run_epoch(textcnn, test_dl, crit, optimizer=None)\n",
    "print(\"\\nTextCNN — Test metrics:\", test_metrics_c)\n",
    "\n",
    "# Detailed report\n",
    "y_true, y_pred = [], []\n",
    "textcnn.eval()\n",
    "with torch.no_grad():\n",
    "    for xb, yb in test_dl:\n",
    "        xb = xb.to(DEVICE)\n",
    "        logits = textcnn(xb)\n",
    "        y_true.extend(yb.numpy().tolist())\n",
    "        y_pred.extend(logits.cpu().argmax(1).numpy().tolist())\n",
    "print(\"\\nTextCNN — Classification Report:\\n\")\n",
    "print(classification_report(y_true, y_pred, digits=4))\n",
    "\n",
    "# Train MLP\n",
    "mlp, history_m = train_with_dual_optimizer(mlp, train_dl, val_dl, epochs=8)\n",
    "\n",
    "# Evaluate MLP\n",
    "mlp_test = run_epoch(mlp, test_dl, nn.CrossEntropyLoss(), optimizer=None)\n",
    "print(\"\\nMLP — Test metrics:\", mlp_test)\n",
    "\n",
    "y_true_m, y_pred_m = [], []\n",
    "mlp.eval()\n",
    "with torch.no_grad():\n",
    "    for xb, yb in test_dl:\n",
    "        xb = xb.to(DEVICE)\n",
    "        logits = mlp(xb)\n",
    "        y_true_m.extend(yb.numpy().tolist())\n",
    "        y_pred_m.extend(logits.cpu().argmax(1).numpy().tolist())\n",
    "print(\"\\nMLP — Classification Report:\\n\")\n",
    "print(classification_report(y_true_m, y_pred_m, digits=4))\n",
    "\n",
    "# Results summary\n",
    "results = {\n",
    "    \"TextCNN_test\": test_metrics_c,\n",
    "    \"MLP_test\": mlp_test,\n",
    "    \"TextCNN_params\": int(sum(p.numel() for p in textcnn.parameters() if p.requires_grad)),\n",
    "    \"MLP_params\": int(sum(p.numel() for p in mlp.parameters() if p.requires_grad))\n",
    "}\n",
    "print(\"\\nResults summary:\\n\", json.dumps(results, indent=2))\n",
    "print(f\"\\nTextCNN acc={results['TextCNN_test']['acc']:.3f} f1-macro={results['TextCNN_test']['f1m']:.3f} \"\n",
    "      f\"({results['TextCNN_params']} params) | \"\n",
    "      f\"MLP acc={results['MLP_test']['acc']:.3f} f1-macro={results['MLP_test']['f1m']:.3f} \"\n",
    "      f\"({results['MLP_params']} params))\")\n"
   ]
  },
  {
   "cell_type": "markdown",
   "id": "85f3e9f2",
   "metadata": {},
   "source": [
    "## 8) Save Artifacts"
   ]
  },
  {
   "cell_type": "code",
   "execution_count": 11,
   "id": "9a170c34",
   "metadata": {},
   "outputs": [
    {
     "name": "stdout",
     "output_type": "stream",
     "text": [
      "Saved model weights and metrics to ./artifacts\n"
     ]
    }
   ],
   "source": [
    "\n",
    "os.makedirs(\"artifacts\", exist_ok=True)\n",
    "torch.save(textcnn.state_dict(), \"artifacts/lightweight_textcnn.pt\")\n",
    "torch.save(mlp.state_dict(), \"artifacts/mlp_text.pt\")\n",
    "with open(\"artifacts/results.json\", \"w\") as f:\n",
    "    json.dump(results, f, indent=2)\n",
    "print(\"Saved model weights and metrics to ./artifacts\")\n"
   ]
  },
  {
   "cell_type": "markdown",
   "id": "b5ebb0a1",
   "metadata": {},
   "source": [
    "## 9) Learning Curves"
   ]
  },
  {
   "cell_type": "code",
   "execution_count": 12,
   "id": "07aaaa01",
   "metadata": {},
   "outputs": [
    {
     "data": {
      "image/png": "[encoded data removed]",
      "text/plain": [
       "<Figure size 640x480 with 1 Axes>"
      ]
     },
     "metadata": {},
     "output_type": "display_data"
    },
    {
     "data": {
      "image/png": "[encoded data removed]",
      "text/plain": [
       "<Figure size 640x480 with 1 Axes>"
      ]
     },
     "metadata": {},
     "output_type": "display_data"
    }
   ],
   "source": [
    "\n",
    "try:\n",
    "    import matplotlib.pyplot as plt\n",
    "    plt.figure()\n",
    "    plt.plot([h[\"train\"][\"loss\"] for h in history_c], label=\"TextCNN train loss\")\n",
    "    plt.plot([h[\"val\"][\"loss\"] for h in history_c], label=\"TextCNN val loss\")\n",
    "    plt.legend(); plt.show()\n",
    "    plt.figure()\n",
    "    plt.plot([h[\"train\"][\"acc\"] for h in history_c], label=\"TextCNN train acc\")\n",
    "    plt.plot([h[\"val\"][\"acc\"] for h in history_c], label=\"TextCNN val acc\")\n",
    "    plt.legend(); plt.show()\n",
    "except Exception as e:\n",
    "    print(\"Skipping plots:\", e)\n"
   ]
  },
  {
   "cell_type": "code",
   "execution_count": null,
   "id": "90f782c6-eb62-4c00-8675-fd7540e16068",
   "metadata": {},
   "outputs": [],
   "source": []
  }
 ],
 "metadata": {
  "kernelspec": {
   "display_name": "Python 3 (ipykernel)",
   "language": "python",
   "name": "python3"
  },
  "language_info": {
   "codemirror_mode": {
    "name": "ipython",
    "version": 3
   },
   "file_extension": ".py",
   "mimetype": "text/x-python",
   "name": "python",
   "nbconvert_exporter": "python",
   "pygments_lexer": "ipython3",
   "version": "3.12.7"
  }
 },
 "nbformat": 4,
 "nbformat_minor": 5
}
